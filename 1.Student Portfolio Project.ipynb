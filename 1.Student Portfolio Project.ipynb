{
 "cells": [
  {
   "cell_type": "markdown",
   "metadata": {},
   "source": [
    "# Student Portfolio"
   ]
  },
  {
   "cell_type": "code",
   "execution_count": 14,
   "metadata": {},
   "outputs": [
    {
     "name": "stdout",
     "output_type": "stream",
     "text": [
      "PLEASE SUBMIT YOUR STUDENT DETAILS\n",
      "****************************** \n",
      "\n",
      "Enter your first name:Arjun\n",
      "Enter your last name:Chandran\n",
      "Enter your standard:6\n",
      "Enter your roll number:78\n",
      "PLEASE SUBMIT YOUR SUBJECT DETAILS\n",
      "******************** \n",
      "\n",
      "Enter your first subject:English\n",
      "Enter your second subject:Maths\n",
      "Enter your third subject: Physics\n",
      "Enter your mark percentage for above subjects:89\n",
      "********************\n"
     ]
    }
   ],
   "source": [
    "print(\"PLEASE SUBMIT YOUR STUDENT DETAILS\")\n",
    "print('*'*30,\"\\n\")\n",
    "\n",
    "first_name= str(input(\"Enter your first name:\"))\n",
    "last_name= str(input(\"Enter your last name:\"))\n",
    "standard= int(input(\"Enter your standard:\"))\n",
    "roll_no= int(input(\"Enter your roll number:\"))\n",
    "\n",
    "\n",
    "print(\"PLEASE SUBMIT YOUR SUBJECT DETAILS\")\n",
    "print('*'*20,\"\\n\")\n",
    "subject_1= str(input('Enter your first subject:'))\n",
    "subject_2= str(input('Enter your second subject:'))\n",
    "subject_3= str(input('Enter your third subject:'))\n",
    "percentage= float(input('Enter your mark percentage for above subjects:'))\n",
    "print('*'*20)"
   ]
  },
  {
   "cell_type": "code",
   "execution_count": 15,
   "metadata": {},
   "outputs": [
    {
     "name": "stdout",
     "output_type": "stream",
     "text": [
      "Student Details\n",
      "******************** \n",
      "\n",
      "FIRST NAME: ARJUN\n",
      "LAST NAME: CHANDRAN\n",
      "STANDARD: 6\n",
      "Roll_No: 78\n",
      "\n",
      "\n",
      "SUBJECT DETAILS\n",
      "******************** \n",
      "\n",
      "FIRST SUBJECT: ENGLISH\n",
      "SECOND SUBJECT: MATHS\n",
      "THIRD SUBJECT:  PHYSICS\n",
      "Percentage marks in given subjects: 89.0\n"
     ]
    }
   ],
   "source": [
    "print(\"Student Details\")\n",
    "print('*'*20,\"\\n\")\n",
    "\n",
    "print(\"First name: {first_name}\".format(first_name=first_name).upper())\n",
    "print(\"Last name: {last_name}\".format(last_name=last_name).upper())\n",
    "print(\"STANDARD: {standard}\".format(standard=standard))\n",
    "print(\"Roll_No: {roll_no}\".format(roll_no=roll_no))\n",
    "print(\"\\n\")\n",
    "\n",
    "print(\"SUBJECT DETAILS\")\n",
    "print('*'*20,\"\\n\")\n",
    "print(\"First subject: {subject_1}\".format(subject_1=subject_1).upper())\n",
    "print(\"Second subject: {subject_2}\".format(subject_2=subject_2).upper())\n",
    "print(\"Third subject: {subject_3}\".format(subject_3=subject_3).upper())\n",
    "print(\"Percentage marks in given subjects: {percentage}\".format(percentage=percentage))"
   ]
  },
  {
   "cell_type": "code",
   "execution_count": null,
   "metadata": {},
   "outputs": [],
   "source": []
  }
 ],
 "metadata": {
  "kernelspec": {
   "display_name": "Python 3",
   "language": "python",
   "name": "python3"
  },
  "language_info": {
   "codemirror_mode": {
    "name": "ipython",
    "version": 3
   },
   "file_extension": ".py",
   "mimetype": "text/x-python",
   "name": "python",
   "nbconvert_exporter": "python",
   "pygments_lexer": "ipython3",
   "version": "3.7.3"
  }
 },
 "nbformat": 4,
 "nbformat_minor": 2
}
