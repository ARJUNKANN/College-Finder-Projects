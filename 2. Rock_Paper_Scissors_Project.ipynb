{
 "cells": [
  {
   "cell_type": "markdown",
   "metadata": {},
   "source": [
    "# ROCK PAPER SCISSORS GAME"
   ]
  },
  {
   "cell_type": "markdown",
   "metadata": {},
   "source": [
    "## The players are advised to select :"
   ]
  },
  {
   "cell_type": "markdown",
   "metadata": {},
   "source": [
    "#### r for Rock  ---------  p for Paper  ----------- s for Scissors"
   ]
  },
  {
   "cell_type": "code",
   "execution_count": 17,
   "metadata": {},
   "outputs": [
    {
     "name": "stdout",
     "output_type": "stream",
     "text": [
      "ROCK-PAPER-SCISSORS\n",
      "******************** \n",
      "\n",
      "Enter your choice:s\n",
      "\n",
      "\n",
      "Computer's choice:r\n",
      "Your choice:s\n",
      "\n",
      "\n",
      "^^^^^^^^^^^^^^^^^^^^ \n",
      "\n",
      "Sorry you had lost the match\n"
     ]
    }
   ],
   "source": [
    "import random\n",
    "\n",
    "\n",
    "print(\"ROCK-PAPER-SCISSORS\")\n",
    "print('*'*20,\"\\n\")\n",
    "\n",
    "computer_input= ['r', 'p', 's']\n",
    "computer= random.choice(computer_input)\n",
    "player = str(input(\"Enter your choice:\"))\n",
    "print(\"\\n\")\n",
    "\n",
    "print(\"Computer's choice:{computer}\".format(computer=computer))\n",
    "print(\"Your choice:{player}\".format( player=player))\n",
    "print('\\n')\n",
    "print('^'*20,\"\\n\")\n",
    "\n",
    "if(computer == player):\n",
    "    print(\"Congratulation!!!!!!  You had won the streak.\")\n",
    "    \n",
    "else:\n",
    "    print(\"Sorry you had lost the match\")\n",
    "  \n",
    "    \n",
    "    "
   ]
  },
  {
   "cell_type": "code",
   "execution_count": null,
   "metadata": {},
   "outputs": [],
   "source": []
  },
  {
   "cell_type": "code",
   "execution_count": null,
   "metadata": {},
   "outputs": [],
   "source": []
  }
 ],
 "metadata": {
  "kernelspec": {
   "display_name": "Python 3",
   "language": "python",
   "name": "python3"
  },
  "language_info": {
   "codemirror_mode": {
    "name": "ipython",
    "version": 3
   },
   "file_extension": ".py",
   "mimetype": "text/x-python",
   "name": "python",
   "nbconvert_exporter": "python",
   "pygments_lexer": "ipython3",
   "version": "3.7.3"
  }
 },
 "nbformat": 4,
 "nbformat_minor": 2
}
