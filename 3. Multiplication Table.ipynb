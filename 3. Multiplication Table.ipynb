{
 "cells": [
  {
   "cell_type": "code",
   "execution_count": 1,
   "metadata": {},
   "outputs": [
    {
     "name": "stdout",
     "output_type": "stream",
     "text": [
      "Requirement already satisfied: prettytable in c:\\programdata\\anaconda3\\lib\\site-packages (2.2.0)\n",
      "Requirement already satisfied: wcwidth in c:\\programdata\\anaconda3\\lib\\site-packages (from prettytable) (0.1.7)\n",
      "Requirement already satisfied: importlib-metadata; python_version < \"3.8\" in c:\\programdata\\anaconda3\\lib\\site-packages (from prettytable) (0.17)\n",
      "Requirement already satisfied: zipp>=0.5 in c:\\programdata\\anaconda3\\lib\\site-packages (from importlib-metadata; python_version < \"3.8\"->prettytable) (0.5.1)\n"
     ]
    }
   ],
   "source": [
    "! pip install prettytable"
   ]
  },
  {
   "cell_type": "code",
   "execution_count": 2,
   "metadata": {},
   "outputs": [
    {
     "name": "stdout",
     "output_type": "stream",
     "text": [
      "Multiplication Tables for Teaching Elementary Kids upto 12 \n",
      "**********************************************************\n",
      "Enter the number:7\n",
      "+--------------------------+--------+\n",
      "|        Operation         | Result |\n",
      "+--------------------------+--------+\n",
      "| (7, 'multiplied by', 1)  |   7    |\n",
      "| (7, 'multiplied by', 2)  |   14   |\n",
      "| (7, 'multiplied by', 3)  |   21   |\n",
      "| (7, 'multiplied by', 4)  |   28   |\n",
      "| (7, 'multiplied by', 5)  |   35   |\n",
      "| (7, 'multiplied by', 6)  |   42   |\n",
      "| (7, 'multiplied by', 7)  |   49   |\n",
      "| (7, 'multiplied by', 8)  |   56   |\n",
      "| (7, 'multiplied by', 9)  |   63   |\n",
      "| (7, 'multiplied by', 10) |   70   |\n",
      "| (7, 'multiplied by', 11) |   77   |\n",
      "| (7, 'multiplied by', 12) |   84   |\n",
      "+--------------------------+--------+\n"
     ]
    }
   ],
   "source": [
    "from prettytable import PrettyTable \n",
    "multiplication_table = PrettyTable([\"Operation\", \"Result\"])\n",
    "\n",
    "print(\"Multiplication Tables for Teaching Elementary Kids upto 12 \")\n",
    "print(\"*\"*58)\n",
    "num=int(input(\"Enter the number:\"))\n",
    "\n",
    "i = 1\n",
    "while (i<=12):\n",
    "    operation= num,\"multiplied by\",i\n",
    "    result= i*num\n",
    "    i= i+1\n",
    "    multiplication_table.add_row([operation, result])\n",
    "    \n",
    "print(multiplication_table)    "
   ]
  },
  {
   "cell_type": "code",
   "execution_count": null,
   "metadata": {},
   "outputs": [],
   "source": []
  }
 ],
 "metadata": {
  "kernelspec": {
   "display_name": "Python 3",
   "language": "python",
   "name": "python3"
  },
  "language_info": {
   "codemirror_mode": {
    "name": "ipython",
    "version": 3
   },
   "file_extension": ".py",
   "mimetype": "text/x-python",
   "name": "python",
   "nbconvert_exporter": "python",
   "pygments_lexer": "ipython3",
   "version": "3.7.3"
  }
 },
 "nbformat": 4,
 "nbformat_minor": 2
}
