{
 "cells": [
  {
   "cell_type": "markdown",
   "metadata": {},
   "source": [
    "# Real Calculator Program"
   ]
  },
  {
   "cell_type": "code",
   "execution_count": 50,
   "metadata": {},
   "outputs": [
    {
     "name": "stdout",
     "output_type": "stream",
     "text": [
      "Requirement already satisfied: prettytable in c:\\programdata\\anaconda3\\lib\\site-packages (2.2.0)\n",
      "Requirement already satisfied: wcwidth in c:\\programdata\\anaconda3\\lib\\site-packages (from prettytable) (0.1.7)\n",
      "Requirement already satisfied: importlib-metadata; python_version < \"3.8\" in c:\\programdata\\anaconda3\\lib\\site-packages (from prettytable) (0.17)\n",
      "Requirement already satisfied: zipp>=0.5 in c:\\programdata\\anaconda3\\lib\\site-packages (from importlib-metadata; python_version < \"3.8\"->prettytable) (0.5.1)\n"
     ]
    }
   ],
   "source": [
    "! pip install prettytable"
   ]
  },
  {
   "cell_type": "code",
   "execution_count": 51,
   "metadata": {},
   "outputs": [
    {
     "name": "stdout",
     "output_type": "stream",
     "text": [
      "REAL CALCULATOR\n",
      "*************** \n",
      "\n",
      "Enter the first number:6\n",
      "Enter the second number:9\n",
      "Enter the operator:-\n",
      "The subtraction of 6 and 9 is : -3\n",
      "\n",
      "\n",
      "TABLE FORM\n",
      "**********\n",
      "+-----------+----------+-----------+--------+--------+\n",
      "| Operand 1 | Operator | Operand 2 | Equals | Result |\n",
      "+-----------+----------+-----------+--------+--------+\n",
      "|     6     |    -     |     9     |   =    |   -3   |\n",
      "+-----------+----------+-----------+--------+--------+\n"
     ]
    }
   ],
   "source": [
    "from prettytable import PrettyTable \n",
    "calculator = PrettyTable([\"Operand 1\", \"Operator\", \"Operand 2\",\"Equals\", \"Result\"])\n",
    "\n",
    "print(\"REAL CALCULATOR\")\n",
    "print('*'*15,\"\\n\")\n",
    "\n",
    "num1= int(input(\"Enter the first number:\"))\n",
    "num2= int(input(\"Enter the second number:\"))\n",
    "operator= input(\"Enter the operator:\")\n",
    "equals= \"=\"\n",
    "\n",
    "def add(a,b):\n",
    "    addition = a+b\n",
    "    print('The sum of {0} and {1} is : {2}'.format(a, b, addition))\n",
    "    calculator.add_row([num1, operator, num2, equals, addition])\n",
    "    print(\"\\n\")\n",
    "    print(\"TABLE FORM\")\n",
    "    print('*'*10)\n",
    "    print(calculator)\n",
    "\n",
    "def subtract(a,b):\n",
    "    subtraction = a-b\n",
    "    print('The subtraction of {0} and {1} is : {2}'.format(a, b, subtraction))\n",
    "    calculator.add_row([num1, operator, num2, equals, subtraction])\n",
    "    print(\"\\n\")\n",
    "    print(\"TABLE FORM\")\n",
    "    print('*'*10)\n",
    "    print(calculator)\n",
    "\n",
    "def multiply(a,b):\n",
    "    multiplication = a*b\n",
    "    print('The multiplication of {0} and {1} is : {2}'.format(a, b, multiplication))\n",
    "    calculator.add_row([num1, operator, num2, equals, multiplication])\n",
    "    print(\"\\n\")\n",
    "    print(\"TABLE FORM\")\n",
    "    print('*'*10)\n",
    "    print(calculator)\n",
    "\n",
    "def division(a,b):\n",
    "    division = a/b\n",
    "    print('The division of {0} and {1} is : {2}'.format(a, b, division))\n",
    "    calculator.add_row([num1, operator, num2, equals, division])\n",
    "    print(\"\\n\")\n",
    "    print(\"TABLE FORM\")\n",
    "    print('*'*10)\n",
    "    print(calculator)\n",
    "    \n",
    "def modulus(a,b):\n",
    "    division = a%b\n",
    "    print('The modulus of {0} and {1} is : {2}'.format(a, b, modulus))\n",
    "    calculator.add_row([num1, operator, num2, equals, modulus])\n",
    "    print(\"\\n\")\n",
    "    print(\"TABLE FORM\")\n",
    "    print('*'*10)\n",
    "    print(calculator)\n",
    "\n",
    "\n",
    "\n",
    "if operator == \"+\":\n",
    "    add(num1,num2)\n",
    "    \n",
    "elif operator == \"-\":\n",
    "    subtract(num1,num2)\n",
    "    \n",
    "elif operator == \"*\":\n",
    "    multiply(num1,num2)\n",
    "    \n",
    "elif operator == \"/\":\n",
    "    division(num1,num2)\n",
    "    \n",
    "elif operator == \"%\":\n",
    "    modulus(num1,num2)\n",
    "    \n",
    "else:\n",
    "    print(\"Invalid entry????\")\n",
    "    "
   ]
  },
  {
   "cell_type": "code",
   "execution_count": null,
   "metadata": {},
   "outputs": [],
   "source": []
  },
  {
   "cell_type": "code",
   "execution_count": null,
   "metadata": {},
   "outputs": [],
   "source": []
  }
 ],
 "metadata": {
  "kernelspec": {
   "display_name": "Python 3",
   "language": "python",
   "name": "python3"
  },
  "language_info": {
   "codemirror_mode": {
    "name": "ipython",
    "version": 3
   },
   "file_extension": ".py",
   "mimetype": "text/x-python",
   "name": "python",
   "nbconvert_exporter": "python",
   "pygments_lexer": "ipython3",
   "version": "3.7.3"
  }
 },
 "nbformat": 4,
 "nbformat_minor": 2
}
